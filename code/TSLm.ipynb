{
  "cells": [
    {
      "cell_type": "markdown",
      "metadata": {
        "id": "YNTgb-xrkUPd"
      },
      "source": [
        "# IR"
      ]
    },
    {
      "cell_type": "markdown",
      "metadata": {
        "id": "vflNrMqinU3H"
      },
      "source": [
        "## Dataset handler"
      ]
    },
    {
      "cell_type": "code",
      "execution_count": null,
      "metadata": {
        "id": "HAc8tpG3mliu"
      },
      "outputs": [],
      "source": [
        "import pandas as pd"
      ]
    },
    {
      "cell_type": "code",
      "execution_count": null,
      "metadata": {
        "id": "u0Db1MB-mm-_"
      },
      "outputs": [],
      "source": [
        "# LINK: https://www.kaggle.com/hacker-news/hacker-news-posts\n",
        "dataset = pd.read_csv('HN_posts_year_to_Sep_26_2016.csv', nrows=10000, usecols=['title'])"
      ]
    },
    {
      "cell_type": "code",
      "execution_count": null,
      "metadata": {
        "colab": {
          "base_uri": "https://localhost:8080/",
          "height": 204
        },
        "id": "Xn-Rx5RYnI1p",
        "outputId": "77d1a51e-c1c7-4ee5-b30c-fc1653f59870"
      },
      "outputs": [
        {
          "data": {
            "text/html": [
              "<div>\n",
              "<style scoped>\n",
              "    .dataframe tbody tr th:only-of-type {\n",
              "        vertical-align: middle;\n",
              "    }\n",
              "\n",
              "    .dataframe tbody tr th {\n",
              "        vertical-align: top;\n",
              "    }\n",
              "\n",
              "    .dataframe thead th {\n",
              "        text-align: right;\n",
              "    }\n",
              "</style>\n",
              "<table border=\"1\" class=\"dataframe\">\n",
              "  <thead>\n",
              "    <tr style=\"text-align: right;\">\n",
              "      <th></th>\n",
              "      <th>title</th>\n",
              "    </tr>\n",
              "  </thead>\n",
              "  <tbody>\n",
              "    <tr>\n",
              "      <th>0</th>\n",
              "      <td>You have two days to comment if you want stem ...</td>\n",
              "    </tr>\n",
              "    <tr>\n",
              "      <th>1</th>\n",
              "      <td>SQLAR  the SQLite Archiver</td>\n",
              "    </tr>\n",
              "    <tr>\n",
              "      <th>2</th>\n",
              "      <td>What if we just printed a flatscreen televisio...</td>\n",
              "    </tr>\n",
              "    <tr>\n",
              "      <th>3</th>\n",
              "      <td>algorithmic music</td>\n",
              "    </tr>\n",
              "    <tr>\n",
              "      <th>4</th>\n",
              "      <td>How the Data Vault Enables the Next-Gen Data W...</td>\n",
              "    </tr>\n",
              "  </tbody>\n",
              "</table>\n",
              "</div>"
            ],
            "text/plain": [
              "                                               title\n",
              "0  You have two days to comment if you want stem ...\n",
              "1                         SQLAR  the SQLite Archiver\n",
              "2  What if we just printed a flatscreen televisio...\n",
              "3                                  algorithmic music\n",
              "4  How the Data Vault Enables the Next-Gen Data W..."
            ]
          },
          "execution_count": 5,
          "metadata": {},
          "output_type": "execute_result"
        }
      ],
      "source": [
        "dataset.head()"
      ]
    },
    {
      "cell_type": "code",
      "execution_count": null,
      "metadata": {
        "colab": {
          "base_uri": "https://localhost:8080/"
        },
        "id": "2b1J2gHsnKeF",
        "outputId": "f7b7ef74-a377-4465-f4d1-1341931a95a9"
      },
      "outputs": [
        {
          "name": "stdout",
          "output_type": "stream",
          "text": [
            "<class 'pandas.core.frame.DataFrame'>\n",
            "RangeIndex: 10000 entries, 0 to 9999\n",
            "Data columns (total 1 columns):\n",
            " #   Column  Non-Null Count  Dtype \n",
            "---  ------  --------------  ----- \n",
            " 0   title   10000 non-null  object\n",
            "dtypes: object(1)\n",
            "memory usage: 78.2+ KB\n"
          ]
        }
      ],
      "source": [
        "dataset.info()"
      ]
    },
    {
      "cell_type": "code",
      "execution_count": null,
      "metadata": {
        "colab": {
          "base_uri": "https://localhost:8080/"
        },
        "id": "2HxKDv7OoJjm",
        "outputId": "b7783c74-9fee-491d-dadc-507551bba931"
      },
      "outputs": [
        {
          "name": "stdout",
          "output_type": "stream",
          "text": [
            "[nltk_data] Downloading package punkt to /root/nltk_data...\n",
            "[nltk_data]   Unzipping tokenizers/punkt.zip.\n"
          ]
        },
        {
          "data": {
            "text/plain": [
              "True"
            ]
          },
          "execution_count": 9,
          "metadata": {},
          "output_type": "execute_result"
        }
      ],
      "source": [
        "import nltk\n",
        "nltk.download('punkt')"
      ]
    },
    {
      "cell_type": "code",
      "execution_count": null,
      "metadata": {
        "colab": {
          "base_uri": "https://localhost:8080/",
          "height": 333
        },
        "id": "dAFsYw0PnZNR",
        "outputId": "6f181591-2e90-4f3f-bf2a-14b55598bb0f"
      },
      "outputs": [
        {
          "data": {
            "text/plain": [
              "(array([ 656., 1335., 1946., 2168., 1830., 1259.,  559.,  193.,   48.,\n",
              "           6.]),\n",
              " array([ 1. ,  3.1,  5.2,  7.3,  9.4, 11.5, 13.6, 15.7, 17.8, 19.9, 22. ]),\n",
              " <a list of 10 Patch objects>)"
            ]
          },
          "execution_count": 10,
          "metadata": {},
          "output_type": "execute_result"
        },
        {
          "data": {
            "image/png": "[encoded data removed]",
            "text/plain": [
              "<Figure size 432x288 with 1 Axes>"
            ]
          },
          "metadata": {
            "needs_background": "light"
          },
          "output_type": "display_data"
        }
      ],
      "source": [
        "from nltk.tokenize import word_tokenize\n",
        "import matplotlib.pyplot as plt\n",
        "texts = list(dataset['title'].values)\n",
        "lens = list(map(lambda x: len(word_tokenize(x)), texts))\n",
        "plt.hist(lens)"
      ]
    },
    {
      "cell_type": "markdown",
      "metadata": {
        "id": "BFvU23QyoQaF"
      },
      "source": [
        "## Preprocessing"
      ]
    },
    {
      "cell_type": "markdown",
      "metadata": {
        "id": "vi0IwSDEp1NX"
      },
      "source": [
        "### Removing stopwords"
      ]
    },
    {
      "cell_type": "code",
      "execution_count": null,
      "metadata": {
        "id": "yfJVw8Dhpw5p"
      },
      "outputs": [],
      "source": [
        "import json\n",
        "import requests"
      ]
    },
    {
      "cell_type": "code",
      "execution_count": null,
      "metadata": {
        "id": "b43WvvAjpfpc"
      },
      "outputs": [],
      "source": [
        "url = \"https://countwordsfree.com/stopwords/english/json\"\n",
        "response = pd.DataFrame(data = json.loads(requests.get(url).text), columns=['words'])\n",
        "SW = list(response['words'])\n",
        "texts = list(map(lambda x: ' '.join([word for word in word_tokenize(x) if word not in (SW)]), texts))"
      ]
    },
    {
      "cell_type": "markdown",
      "metadata": {
        "id": "iDdrh6d5p5iL"
      },
      "source": [
        "### Stemming"
      ]
    },
    {
      "cell_type": "code",
      "execution_count": null,
      "metadata": {
        "id": "btVo0-DHp6lY"
      },
      "outputs": [],
      "source": [
        "from nltk.stem.snowball import SnowballStemmer"
      ]
    },
    {
      "cell_type": "code",
      "execution_count": null,
      "metadata": {
        "id": "6xagnCprp9rl"
      },
      "outputs": [],
      "source": [
        "stemmer = SnowballStemmer('english')\n",
        "texts = list(map(lambda x:' '.join([stemmer.stem(y) for y in word_tokenize(x)]), texts))"
      ]
    },
    {
      "cell_type": "markdown",
      "metadata": {
        "id": "d28L1A2kqBew"
      },
      "source": [
        "### Vectorize"
      ]
    },
    {
      "cell_type": "code",
      "execution_count": null,
      "metadata": {
        "id": "QzuVHK7WqJ64"
      },
      "outputs": [],
      "source": [
        "from sklearn.feature_extraction.text import TfidfVectorizer"
      ]
    },
    {
      "cell_type": "code",
      "execution_count": null,
      "metadata": {
        "id": "-MKnIuuPqD8S"
      },
      "outputs": [],
      "source": [
        "tfidf = TfidfVectorizer(texts, min_df=2, ngram_range=(1,3), max_features=20000)\n",
        "tfidf.fit(texts)\n",
        "vectorize_texts = tfidf.transform(texts)"
      ]
    },
    {
      "cell_type": "code",
      "execution_count": null,
      "metadata": {
        "colab": {
          "base_uri": "https://localhost:8080/"
        },
        "id": "extK0wefqLeG",
        "outputId": "b4dd080d-450f-4c07-93c6-7d71bace57b1"
      },
      "outputs": [
        {
          "data": {
            "text/plain": [
              "(10000, 12855)"
            ]
          },
          "execution_count": 23,
          "metadata": {},
          "output_type": "execute_result"
        }
      ],
      "source": [
        "vectorize_texts.shape"
      ]
    },
    {
      "cell_type": "markdown",
      "metadata": {
        "id": "Hzm3SeFRqRjE"
      },
      "source": [
        "## Cosine similarities to find suitable news"
      ]
    },
    {
      "cell_type": "code",
      "execution_count": null,
      "metadata": {
        "id": "x7YHqbU_q75x"
      },
      "outputs": [],
      "source": [
        "from sklearn.metrics.pairwise import linear_kernel"
      ]
    },
    {
      "cell_type": "code",
      "execution_count": null,
      "metadata": {
        "id": "IxHwUjz-rKpk"
      },
      "outputs": [],
      "source": [
        "articles = list(dataset['title'].values)"
      ]
    },
    {
      "cell_type": "code",
      "execution_count": null,
      "metadata": {
        "colab": {
          "base_uri": "https://localhost:8080/"
        },
        "id": "IIj29oVHqa7W",
        "outputId": "a6a411bd-408e-4c1c-b8f5-82de794a981c"
      },
      "outputs": [
        {
          "name": "stdout",
          "output_type": "stream",
          "text": [
            "Top-5 documents\n",
            "1 WebRTC Weekly\n",
            "2 WebRTC that will help you cook better\n",
            "3 Welcome Kurento WebRTC Team to Twilio\n",
            "4 Wowza Media Streaming Engine Announces Support for WebRTC (Beta)\n",
            "5 Ask HN: WebRTC onion routing between Facebook friend circles\n"
          ]
        }
      ],
      "source": [
        "query = 'webrtc'\n",
        "query = list(map(lambda x:' '.join([stemmer.stem(y) for y in word_tokenize(x)]), [query]))\n",
        "new_features = tfidf.transform(query)\n",
        "cosine_similarities = linear_kernel(new_features, vectorize_texts).flatten()\n",
        "related_docs_indices = cosine_similarities.argsort()[::-1]\n",
        "\n",
        "topk = 5\n",
        "print(f\"Top-{topk} documents\")\n",
        "for i in range(topk):\n",
        "  print(i + 1, articles[related_docs_indices[i]])"
      ]
    },
    {
      "cell_type": "markdown",
      "metadata": {
        "id": "WsONB8Y_sCWA"
      },
      "source": [
        "# Topic modeling"
      ]
    },
    {
      "cell_type": "markdown",
      "metadata": {
        "id": "yvtmhpJjqti-"
      },
      "source": [
        "## Dataset handler"
      ]
    },
    {
      "cell_type": "code",
      "execution_count": 1,
      "metadata": {
        "colab": {
          "base_uri": "https://localhost:8080/"
        },
        "id": "N1Qm-ZXfqtCi",
        "outputId": "a5c30faf-9739-4e57-a484-2778b5149484"
      },
      "outputs": [
        {
          "name": "stdout",
          "output_type": "stream",
          "text": [
            "/content/drive/MyDrive/NLP_Introduction/NLP_research\n"
          ]
        }
      ],
      "source": [
        "%cd drive/MyDrive/NLP_Introduction/NLP_research/"
      ]
    },
    {
      "cell_type": "code",
      "execution_count": 3,
      "metadata": {
        "colab": {
          "base_uri": "https://localhost:8080/"
        },
        "id": "4o5RVcDRqxGc",
        "outputId": "d35dc65b-9a17-430b-e2e7-96ce001c68ba"
      },
      "outputs": [
        {
          "name": "stdout",
          "output_type": "stream",
          "text": [
            "<class 'pandas.core.frame.DataFrame'>\n",
            "RangeIndex: 1490 entries, 0 to 1489\n",
            "Data columns (total 3 columns):\n",
            " #   Column     Non-Null Count  Dtype \n",
            "---  ------     --------------  ----- \n",
            " 0   ArticleId  1490 non-null   int64 \n",
            " 1   Text       1490 non-null   object\n",
            " 2   Category   1490 non-null   object\n",
            "dtypes: int64(1), object(2)\n",
            "memory usage: 35.0+ KB\n"
          ]
        }
      ],
      "source": [
        "import pandas as pd\n",
        "# LINK: https://www.kaggle.com/c/learn-ai-bbc/data\n",
        "dataset = pd.read_csv('BBC News Train.csv')\n",
        "dataset.info()"
      ]
    },
    {
      "cell_type": "code",
      "execution_count": 4,
      "metadata": {
        "colab": {
          "base_uri": "https://localhost:8080/",
          "height": 419
        },
        "id": "T-FcU3zSrCCn",
        "outputId": "bd3fdfdb-3542-4fbc-d651-0f1dda94b35b"
      },
      "outputs": [
        {
          "data": {
            "text/html": [
              "<div>\n",
              "<style scoped>\n",
              "    .dataframe tbody tr th:only-of-type {\n",
              "        vertical-align: middle;\n",
              "    }\n",
              "\n",
              "    .dataframe tbody tr th {\n",
              "        vertical-align: top;\n",
              "    }\n",
              "\n",
              "    .dataframe thead th {\n",
              "        text-align: right;\n",
              "    }\n",
              "</style>\n",
              "<table border=\"1\" class=\"dataframe\">\n",
              "  <thead>\n",
              "    <tr style=\"text-align: right;\">\n",
              "      <th></th>\n",
              "      <th>Text</th>\n",
              "      <th>Category</th>\n",
              "    </tr>\n",
              "  </thead>\n",
              "  <tbody>\n",
              "    <tr>\n",
              "      <th>0</th>\n",
              "      <td>worldcom ex-boss launches defence lawyers defe...</td>\n",
              "      <td>business</td>\n",
              "    </tr>\n",
              "    <tr>\n",
              "      <th>1</th>\n",
              "      <td>german business confidence slides german busin...</td>\n",
              "      <td>business</td>\n",
              "    </tr>\n",
              "    <tr>\n",
              "      <th>2</th>\n",
              "      <td>bbc poll indicates economic gloom citizens in ...</td>\n",
              "      <td>business</td>\n",
              "    </tr>\n",
              "    <tr>\n",
              "      <th>3</th>\n",
              "      <td>lifestyle  governs mobile choice  faster  bett...</td>\n",
              "      <td>tech</td>\n",
              "    </tr>\n",
              "    <tr>\n",
              "      <th>4</th>\n",
              "      <td>enron bosses in $168m payout eighteen former e...</td>\n",
              "      <td>business</td>\n",
              "    </tr>\n",
              "    <tr>\n",
              "      <th>...</th>\n",
              "      <td>...</td>\n",
              "      <td>...</td>\n",
              "    </tr>\n",
              "    <tr>\n",
              "      <th>1485</th>\n",
              "      <td>double eviction from big brother model caprice...</td>\n",
              "      <td>entertainment</td>\n",
              "    </tr>\n",
              "    <tr>\n",
              "      <th>1486</th>\n",
              "      <td>dj double act revamp chart show dj duo jk and ...</td>\n",
              "      <td>entertainment</td>\n",
              "    </tr>\n",
              "    <tr>\n",
              "      <th>1487</th>\n",
              "      <td>weak dollar hits reuters revenues at media gro...</td>\n",
              "      <td>business</td>\n",
              "    </tr>\n",
              "    <tr>\n",
              "      <th>1488</th>\n",
              "      <td>apple ipod family expands market apple has exp...</td>\n",
              "      <td>tech</td>\n",
              "    </tr>\n",
              "    <tr>\n",
              "      <th>1489</th>\n",
              "      <td>santy worm makes unwelcome visit thousands of ...</td>\n",
              "      <td>tech</td>\n",
              "    </tr>\n",
              "  </tbody>\n",
              "</table>\n",
              "<p>1490 rows × 2 columns</p>\n",
              "</div>"
            ],
            "text/plain": [
              "                                                   Text       Category\n",
              "0     worldcom ex-boss launches defence lawyers defe...       business\n",
              "1     german business confidence slides german busin...       business\n",
              "2     bbc poll indicates economic gloom citizens in ...       business\n",
              "3     lifestyle  governs mobile choice  faster  bett...           tech\n",
              "4     enron bosses in $168m payout eighteen former e...       business\n",
              "...                                                 ...            ...\n",
              "1485  double eviction from big brother model caprice...  entertainment\n",
              "1486  dj double act revamp chart show dj duo jk and ...  entertainment\n",
              "1487  weak dollar hits reuters revenues at media gro...       business\n",
              "1488  apple ipod family expands market apple has exp...           tech\n",
              "1489  santy worm makes unwelcome visit thousands of ...           tech\n",
              "\n",
              "[1490 rows x 2 columns]"
            ]
          },
          "execution_count": 4,
          "metadata": {},
          "output_type": "execute_result"
        }
      ],
      "source": [
        "dataset = dataset.drop('ArticleId', axis=1)\n",
        "dataset"
      ]
    },
    {
      "cell_type": "code",
      "execution_count": 5,
      "metadata": {
        "id": "k8moj9BXrKRB"
      },
      "outputs": [],
      "source": [
        "corpus = dataset['Text'].values"
      ]
    },
    {
      "cell_type": "markdown",
      "metadata": {
        "id": "qZYecW1Prk6n"
      },
      "source": [
        "## Preprocessing"
      ]
    },
    {
      "cell_type": "markdown",
      "metadata": {
        "id": "wo2X7OH8rpU6"
      },
      "source": [
        "### Tokenize"
      ]
    },
    {
      "cell_type": "code",
      "execution_count": 7,
      "metadata": {
        "id": "AzUhz_P5qdzQ"
      },
      "outputs": [],
      "source": [
        "import nltk\n",
        "import re\n",
        "\n",
        "regex = re.compile('[^a-zA-Z]')\n",
        "\n",
        "def tokenize(text):\n",
        "    tokens = []\n",
        "    for sent in nltk.sent_tokenize(text):\n",
        "        for word in nltk.word_tokenize(sent):\n",
        "            clean_word = regex.sub('', word)\n",
        "            tokens.append(clean_word.lower())\n",
        "    return tokens"
      ]
    },
    {
      "cell_type": "markdown",
      "metadata": {
        "id": "r8jVzg41rsGL"
      },
      "source": [
        "### Remove stop words"
      ]
    },
    {
      "cell_type": "code",
      "execution_count": 8,
      "metadata": {
        "colab": {
          "base_uri": "https://localhost:8080/"
        },
        "id": "GTOkM6Q8rzEb",
        "outputId": "7da75f81-08f4-486b-8708-488e1c1c0600"
      },
      "outputs": [
        {
          "name": "stdout",
          "output_type": "stream",
          "text": [
            "[nltk_data] Downloading package stopwords to /root/nltk_data...\n",
            "[nltk_data]   Unzipping corpora/stopwords.zip.\n"
          ]
        },
        {
          "data": {
            "text/plain": [
              "True"
            ]
          },
          "execution_count": 8,
          "metadata": {},
          "output_type": "execute_result"
        }
      ],
      "source": [
        "import nltk\n",
        "nltk.download('stopwords')"
      ]
    },
    {
      "cell_type": "code",
      "execution_count": 9,
      "metadata": {
        "id": "Wgo0W-i3ruFg"
      },
      "outputs": [],
      "source": [
        "from nltk.corpus import stopwords as sw\n",
        "stopwords = sw.words('english')"
      ]
    },
    {
      "cell_type": "markdown",
      "metadata": {
        "id": "QXvbc1DRr4Xs"
      },
      "source": [
        "### Stemming"
      ]
    },
    {
      "cell_type": "code",
      "execution_count": 10,
      "metadata": {
        "id": "_0-yAFZWr6AX"
      },
      "outputs": [],
      "source": [
        "from nltk.stem.snowball import SnowballStemmer\n",
        "\n",
        "stemmer = SnowballStemmer(\"english\")\n",
        "\n",
        "def stem(word):\n",
        "    return stemmer.stem(word).strip()"
      ]
    },
    {
      "cell_type": "markdown",
      "metadata": {
        "id": "f2LhB4A2r_lZ"
      },
      "source": [
        "### Vectorize"
      ]
    },
    {
      "cell_type": "code",
      "execution_count": 12,
      "metadata": {
        "colab": {
          "base_uri": "https://localhost:8080/"
        },
        "id": "WY0VExmXsHME",
        "outputId": "2c28ee1b-26bc-4a10-8a90-f38cf09a3e8c"
      },
      "outputs": [
        {
          "name": "stdout",
          "output_type": "stream",
          "text": [
            "[nltk_data] Downloading package punkt to /root/nltk_data...\n",
            "[nltk_data]   Unzipping tokenizers/punkt.zip.\n"
          ]
        },
        {
          "data": {
            "text/plain": [
              "True"
            ]
          },
          "execution_count": 12,
          "metadata": {},
          "output_type": "execute_result"
        }
      ],
      "source": [
        "nltk.download('punkt')"
      ]
    },
    {
      "cell_type": "code",
      "execution_count": null,
      "metadata": {
        "id": "5tEBd6UysBXV"
      },
      "outputs": [],
      "source": [
        "from sklearn.feature_extraction.text import TfidfVectorizer\n",
        "\n",
        "tfidf_vectorizer = TfidfVectorizer(max_df=0.8, max_features=20000,\n",
        "                                 min_df=0.05, stop_words=stopwords,\n",
        "                                 use_idf=True, tokenizer=tokenize,\n",
        "                                  lowercase=True, preprocessor=stem)\n",
        "tfidf_matrix = tfidf_vectorizer.fit_transform(corpus)"
      ]
    },
    {
      "cell_type": "markdown",
      "metadata": {
        "id": "6If0bVqGsRlF"
      },
      "source": [
        "## LDA"
      ]
    },
    {
      "cell_type": "code",
      "execution_count": 21,
      "metadata": {
        "colab": {
          "base_uri": "https://localhost:8080/"
        },
        "id": "cBO0RvzBsU76",
        "outputId": "4f7611d8-051d-441f-9e38-f8b36ec41eb5"
      },
      "outputs": [
        {
          "data": {
            "text/plain": [
              "LatentDirichletAllocation(batch_size=128, doc_topic_prior=None,\n",
              "                          evaluate_every=-1, learning_decay=0.7,\n",
              "                          learning_method='batch', learning_offset=10.0,\n",
              "                          max_doc_update_iter=100, max_iter=10,\n",
              "                          mean_change_tol=0.001, n_components=5, n_jobs=None,\n",
              "                          perp_tol=0.1, random_state=None,\n",
              "                          topic_word_prior=None, total_samples=1000000.0,\n",
              "                          verbose=0)"
            ]
          },
          "execution_count": 21,
          "metadata": {},
          "output_type": "execute_result"
        }
      ],
      "source": [
        "from sklearn.decomposition import LatentDirichletAllocation\n",
        "\n",
        "lda = LatentDirichletAllocation(n_components=5)\n",
        "lda.fit(tfidf_matrix)"
      ]
    },
    {
      "cell_type": "code",
      "execution_count": 22,
      "metadata": {
        "colab": {
          "base_uri": "https://localhost:8080/"
        },
        "id": "0o5bAFBssW8U",
        "outputId": "8c754ff8-8a97-4809-b71c-a4ac70dd5963"
      },
      "outputs": [
        {
          "name": "stdout",
          "output_type": "stream",
          "text": [
            "Topic #0:\n",
            "['match', 'play', 'world', 'players', 'cup', 'first', 'club', 'win', 'england', 'game']\n",
            "\n",
            "\n",
            "Topic #1:\n",
            "['economy', 'mr', 'bank', 'growth', 'market', 'company', 'year', 'firm', 'us', 'bn']\n",
            "\n",
            "\n",
            "Topic #2:\n",
            "['phone', 'use', 'digital', 'new', 'technology', 'users', 'software', 'mobile', 'music', 'people']\n",
            "\n",
            "\n",
            "Topic #3:\n",
            "['howard', 'minister', 'would', 'government', 'brown', 'party', 'blair', 'election', 'labour', 'mr']\n",
            "\n",
            "\n",
            "Topic #4:\n",
            "['law', 'us', 'star', 'films', 'mr', 'award', 'awards', 'actor', 'best', 'film']\n",
            "\n",
            "\n"
          ]
        }
      ],
      "source": [
        "for i,topic in enumerate(lda.components_):\n",
        "    print(f'Topic #{i}:')\n",
        "    print([tfidf_vectorizer.get_feature_names()[i] for i in topic.argsort()[-10:]])\n",
        "    print('\\n')"
      ]
    },
    {
      "cell_type": "code",
      "execution_count": 23,
      "metadata": {
        "id": "DEleRz96s0fe"
      },
      "outputs": [],
      "source": [
        "topic_values = lda.transform(tfidf_matrix)\n",
        "doc_num, topic_num = topic_values.shape"
      ]
    },
    {
      "cell_type": "code",
      "execution_count": 24,
      "metadata": {
        "colab": {
          "base_uri": "https://localhost:8080/",
          "height": 731
        },
        "id": "Lniq49aos1Rt",
        "outputId": "3fcb54a0-9f09-49e9-eed2-532f59ed1dd6"
      },
      "outputs": [
        {
          "data": {
            "text/html": [
              "<div>\n",
              "<style scoped>\n",
              "    .dataframe tbody tr th:only-of-type {\n",
              "        vertical-align: middle;\n",
              "    }\n",
              "\n",
              "    .dataframe tbody tr th {\n",
              "        vertical-align: top;\n",
              "    }\n",
              "\n",
              "    .dataframe thead th {\n",
              "        text-align: right;\n",
              "    }\n",
              "</style>\n",
              "<table border=\"1\" class=\"dataframe\">\n",
              "  <thead>\n",
              "    <tr style=\"text-align: right;\">\n",
              "      <th></th>\n",
              "      <th></th>\n",
              "      <th>document</th>\n",
              "    </tr>\n",
              "    <tr>\n",
              "      <th>label</th>\n",
              "      <th>lda</th>\n",
              "      <th></th>\n",
              "    </tr>\n",
              "  </thead>\n",
              "  <tbody>\n",
              "    <tr>\n",
              "      <th rowspan=\"4\" valign=\"top\">business</th>\n",
              "      <th>0</th>\n",
              "      <td>2</td>\n",
              "    </tr>\n",
              "    <tr>\n",
              "      <th>1</th>\n",
              "      <td>321</td>\n",
              "    </tr>\n",
              "    <tr>\n",
              "      <th>2</th>\n",
              "      <td>9</td>\n",
              "    </tr>\n",
              "    <tr>\n",
              "      <th>4</th>\n",
              "      <td>4</td>\n",
              "    </tr>\n",
              "    <tr>\n",
              "      <th rowspan=\"5\" valign=\"top\">entertainment</th>\n",
              "      <th>0</th>\n",
              "      <td>24</td>\n",
              "    </tr>\n",
              "    <tr>\n",
              "      <th>1</th>\n",
              "      <td>5</td>\n",
              "    </tr>\n",
              "    <tr>\n",
              "      <th>2</th>\n",
              "      <td>59</td>\n",
              "    </tr>\n",
              "    <tr>\n",
              "      <th>3</th>\n",
              "      <td>1</td>\n",
              "    </tr>\n",
              "    <tr>\n",
              "      <th>4</th>\n",
              "      <td>184</td>\n",
              "    </tr>\n",
              "    <tr>\n",
              "      <th rowspan=\"5\" valign=\"top\">politics</th>\n",
              "      <th>0</th>\n",
              "      <td>6</td>\n",
              "    </tr>\n",
              "    <tr>\n",
              "      <th>1</th>\n",
              "      <td>22</td>\n",
              "    </tr>\n",
              "    <tr>\n",
              "      <th>2</th>\n",
              "      <td>16</td>\n",
              "    </tr>\n",
              "    <tr>\n",
              "      <th>3</th>\n",
              "      <td>193</td>\n",
              "    </tr>\n",
              "    <tr>\n",
              "      <th>4</th>\n",
              "      <td>37</td>\n",
              "    </tr>\n",
              "    <tr>\n",
              "      <th rowspan=\"3\" valign=\"top\">sport</th>\n",
              "      <th>0</th>\n",
              "      <td>335</td>\n",
              "    </tr>\n",
              "    <tr>\n",
              "      <th>1</th>\n",
              "      <td>4</td>\n",
              "    </tr>\n",
              "    <tr>\n",
              "      <th>4</th>\n",
              "      <td>7</td>\n",
              "    </tr>\n",
              "    <tr>\n",
              "      <th rowspan=\"4\" valign=\"top\">tech</th>\n",
              "      <th>0</th>\n",
              "      <td>5</td>\n",
              "    </tr>\n",
              "    <tr>\n",
              "      <th>1</th>\n",
              "      <td>8</td>\n",
              "    </tr>\n",
              "    <tr>\n",
              "      <th>2</th>\n",
              "      <td>242</td>\n",
              "    </tr>\n",
              "    <tr>\n",
              "      <th>4</th>\n",
              "      <td>6</td>\n",
              "    </tr>\n",
              "  </tbody>\n",
              "</table>\n",
              "</div>"
            ],
            "text/plain": [
              "                   document\n",
              "label         lda          \n",
              "business      0           2\n",
              "              1         321\n",
              "              2           9\n",
              "              4           4\n",
              "entertainment 0          24\n",
              "              1           5\n",
              "              2          59\n",
              "              3           1\n",
              "              4         184\n",
              "politics      0           6\n",
              "              1          22\n",
              "              2          16\n",
              "              3         193\n",
              "              4          37\n",
              "sport         0         335\n",
              "              1           4\n",
              "              4           7\n",
              "tech          0           5\n",
              "              1           8\n",
              "              2         242\n",
              "              4           6"
            ]
          },
          "execution_count": 24,
          "metadata": {},
          "output_type": "execute_result"
        }
      ],
      "source": [
        "from sklearn.decomposition import LatentDirichletAllocation\n",
        "\n",
        "lda = LatentDirichletAllocation(n_components=5)\n",
        "lda.fit(tfidf_matrix)import pandas as pd\n",
        "df = pd.DataFrame({'document': corpus, 'label': dataset['Category'], 'lda': topic_values.argmax(axis=1)})\n",
        "df.groupby(['label', 'lda']).count()"
      ]
    },
    {
      "cell_type": "code",
      "execution_count": 26,
      "metadata": {
        "colab": {
          "base_uri": "https://localhost:8080/"
        },
        "id": "ThVIqbUyuQPf",
        "outputId": "cdd2b3c5-a4c9-43b1-ff42-601dc383ebbb"
      },
      "outputs": [
        {
          "name": "stdout",
          "output_type": "stream",
          "text": [
            "Topic #0:\n",
            "['tv', 'films', 'music', 'star', 'actor', 'show', 'award', 'awards', 'best', 'film']\n",
            "\n",
            "\n",
            "Topic #1:\n",
            "['use', 'net', 'digital', 'phone', 'music', 'technology', 'users', 'software', 'mobile', 'people']\n",
            "\n",
            "\n",
            "Topic #2:\n",
            "['government', 'party', 'win', 'election', 'blair', 'england', 'game', 'labour', 'would', 'mr']\n",
            "\n",
            "\n",
            "Topic #3:\n",
            "['shares', 'economy', 'growth', 'bank', 'year', 'market', 'company', 'firm', 'us', 'bn']\n",
            "\n",
            "\n",
            "Topic #4:\n",
            "['december', 'problem', 'american', 'match', 'november', 'comes', 'leading', 'event', 'open', 'injury']\n",
            "\n",
            "\n"
          ]
        }
      ],
      "source": [
        "from sklearn.decomposition import LatentDirichletAllocation\n",
        "\n",
        "lda = LatentDirichletAllocation(n_components=5, random_state=2021)\n",
        "lda.fit(tfidf_matrix)\n",
        "for i,topic in enumerate(lda.components_):\n",
        "    print(f'Topic #{i}:')\n",
        "    print([tfidf_vectorizer.get_feature_names()[i] for i in topic.argsort()[-10:]])\n",
        "    print('\\n')"
      ]
    }
  ],
  "metadata": {
    "colab": {
      "collapsed_sections": [],
      "name": "TSLm.ipynb",
      "provenance": [],
      "toc_visible": true
    },
    "kernelspec": {
      "display_name": "Python 3",
      "name": "python3"
    },
    "language_info": {
      "name": "python"
    }
  },
  "nbformat": 4,
  "nbformat_minor": 0
}
